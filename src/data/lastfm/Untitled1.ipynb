{
 "cells": [
  {
   "cell_type": "code",
   "execution_count": 2,
   "metadata": {},
   "outputs": [
    {
     "name": "stdin",
     "output_type": "stream",
     "text": [
      "Last.fm Dev API Key hi\n"
     ]
    },
    {
     "name": "stdout",
     "output_type": "stream",
     "text": [
      "<__main__.LfmUsers object at 0x0000020BFF848C88>\n"
     ]
    },
    {
     "data": {
      "text/plain": [
       "{'payload': {'method': 'user.getfriends',\n",
       "  'api_key': 'hi',\n",
       "  'format': 'json',\n",
       "  'recenttracks': 'False'},\n",
       " 'root': 'http://ws.audioscrobbler.com/2.0/'}"
      ]
     },
     "execution_count": 2,
     "metadata": {},
     "output_type": "execute_result"
    }
   ],
   "source": [
    "import requests\n",
    "import json\n",
    "from dataclasses import dataclass\n",
    "from collections import deque\n",
    "class LfmUsers(object):\n",
    "    \"\"\"Gets a large number of last fm user names\"\"\"\n",
    "    def __init__(self, starting_user: str=None):\n",
    "        self.api_key = input(\"Last.fm Dev API Key\")\n",
    "        self.url = {'payload': {'method': None}}\n",
    "        self.url['root'] = r'http://ws.audioscrobbler.com/2.0/'\n",
    "        print(self)\n",
    "        self.url['payload']['method'] = 'user.getfriends'\n",
    "        self.url['payload']['api_key'] = f'{self.api_key}'\n",
    "        self.url['payload']['format'] = 'json'\n",
    " 18             self.url['payload']['recenttracks'] = 'False'\n",
    " 19\n"
   ]
  },
  {
   "cell_type": "code",
   "execution_count": null,
   "metadata": {},
   "outputs": [],
   "source": []
  }
 ],
 "metadata": {
  "kernelspec": {
   "display_name": "Python 3",
   "language": "python",
   "name": "python3"
  },
  "language_info": {
   "codemirror_mode": {
    "name": "ipython",
    "version": 3
   },
   "file_extension": ".py",
   "mimetype": "text/x-python",
   "name": "python",
   "nbconvert_exporter": "python",
   "pygments_lexer": "ipython3",
   "version": "3.7.4"
  }
 },
 "nbformat": 4,
 "nbformat_minor": 4
}
