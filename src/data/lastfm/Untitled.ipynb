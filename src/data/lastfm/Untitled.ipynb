{
 "cells": [
  {
   "cell_type": "code",
   "execution_count": 2,
   "metadata": {},
   "outputs": [
    {
     "name": "stdout",
     "output_type": "stream",
     "text": [
      "Package                           Version\n",
      "--------------------------------- -----------\n",
      "-illow                            6.1.0\n",
      "-yyaml                            5.1.1\n",
      "appdirs                           1.4.4\n",
      "argon2-cffi                       20.1.0\n",
      "astroid                           2.4.2\n",
      "astropy                           4.0.1.post1\n",
      "Note: you may need to restart the kernel to use updated packages.\n",
      "async-generator                   1.10\n",
      "atomicwrites                      1.4.0\n",
      "attrs                             20.2.0\n",
      "autopep8                          1.5.4\n",
      "awscli                            1.18.152\n",
      "backcall                          0.2.0\n",
      "bleach                            3.2.1\n",
      "Boruta                            0.3\n",
      "botocore                          1.18.11\n",
      "certifi                           2020.6.20\n",
      "cffi                              1.14.3\n",
      "chardet                           3.0.4\n",
      "colorama                          0.4.3\n",
      "confuse                           1.3.0\n",
      "cycler                            0.10.0\n",
      "decorator                         4.4.2\n",
      "defusedxml                        0.6.0\n",
      "distlib                           0.3.1\n",
      "docker                            4.3.1\n",
      "docutils                          0.15.2\n",
      "entrypoints                       0.3\n",
      "fastparquet                       0.4.1\n",
      "filelock                          3.0.12\n",
      "future                            0.18.2\n",
      "htmlmin                           0.1.12\n",
      "idna                              2.10\n",
      "importlib-metadata                1.7.0\n",
      "iniconfig                         1.0.1\n",
      "ipykernel                         5.3.4\n",
      "ipython                           7.18.1\n",
      "ipython-genutils                  0.2.0\n",
      "ipywidgets                        7.5.1\n",
      "isort                             5.5.3\n",
      "jedi                              0.17.2\n",
      "Jinja2                            2.11.2\n",
      "jmespath                          0.10.0\n",
      "joblib                            0.16.0\n",
      "json5                             0.9.5\n",
      "jsonschema                        3.2.0\n",
      "jupyter                           1.0.0\n",
      "jupyter-client                    6.1.7\n",
      "jupyter-console                   6.2.0\n",
      "jupyter-contrib-core              0.3.3\n",
      "jupyter-contrib-nbextensions      0.5.1\n",
      "jupyter-core                      4.6.3\n",
      "jupyter-highlight-selected-word   0.2.0\n",
      "jupyter-latex-envs                1.4.6\n",
      "jupyter-nbextensions-configurator 0.4.1\n",
      "jupyterlab                        2.2.8\n",
      "jupyterlab-pygments               0.1.1\n",
      "jupyterlab-server                 1.2.0\n",
      "jupyterthemes                     0.20.0\n",
      "kiwisolver                        1.2.0\n",
      "knnimpute                         0.1.0\n",
      "lab                               6.1\n",
      "lazy-object-proxy                 1.4.3\n",
      "lesscpy                           0.14.0\n",
      "llvmlite                          0.34.0\n",
      "lxml                              4.5.2\n",
      "MarkupSafe                        1.1.1\n",
      "matplotlib                        3.0.3\n",
      "matplotlib-venn                   0.11.5\n",
      "mccabe                            0.6.1\n",
      "missingno                         0.4.2\n",
      "mistune                           0.8.4\n",
      "more-itertools                    8.5.0\n",
      "nbclient                          0.5.0\n",
      "nbconvert                         6.0.4\n",
      "nbformat                          5.0.7\n",
      "nest-asyncio                      1.4.0\n",
      "notebook                          6.1.4\n",
      "numba                             0.51.2\n",
      "numpy                             1.19.2\n",
      "opencv-python                     4.4.0.42\n",
      "osqp                              0.6.1\n",
      "packaging                         20.4\n",
      "pandas                            1.1.2\n",
      "pandas-profiling                  2.3.0\n",
      "pandocfilters                     1.4.2\n",
      "parso                             0.7.1\n",
      "patsy                             0.5.1\n",
      "phik                              0.10.0\n",
      "pickleshare                       0.7.5\n",
      "Pillow                            7.2.0\n",
      "pip                               20.2.4\n",
      "pluggy                            0.13.1\n",
      "ply                               3.11\n",
      "prometheus-client                 0.8.0\n",
      "prompt-toolkit                    3.0.7\n",
      "psycopg2                          2.8.6\n",
      "py                                1.9.0\n",
      "pyarrow                           1.0.1\n",
      "pyasn1                            0.4.8\n",
      "pycodestyle                       2.6.0\n",
      "pycparser                         2.20\n",
      "pydotplus                         2.0.2\n",
      "Pygments                          2.7.1\n",
      "pylint                            2.6.0\n",
      "pyparsing                         2.4.7\n",
      "pyrsistent                        0.17.3\n",
      "pytest                            6.0.2\n",
      "pytest-pylint                     0.17.0\n",
      "python-dateutil                   2.8.1\n",
      "pytz                              2020.1\n",
      "pywin32                           227\n",
      "pywinpty                          0.5.7\n",
      "PyYAML                            5.3.1\n",
      "pyzmq                             19.0.2\n",
      "qtconsole                         4.7.7\n",
      "QtPy                              1.9.0\n",
      "requests                          2.24.0\n",
      "rsa                               4.5\n",
      "s3transfer                        0.3.3\n",
      "scikit-learn                      0.23.2\n",
      "scipy                             1.5.2\n",
      "seaborn                           0.11.0\n",
      "Send2Trash                        1.5.0\n",
      "setuptools                        50.3.0\n",
      "simplejson                        3.17.2\n",
      "six                               1.15.0\n",
      "sklearn                           0.0\n",
      "SQLAlchemy                        1.3.19\n",
      "statsmodels                       0.12.0\n",
      "tangled-up-in-unicode             0.0.6\n",
      "terminado                         0.9.1\n",
      "testpath                          0.4.4\n",
      "threadpoolctl                     2.1.0\n",
      "thrift                            0.13.0\n",
      "toml                              0.10.1\n",
      "tornado                           6.0.4\n",
      "traitlets                         5.0.4\n",
      "txt2tags                          3.7\n",
      "typed-ast                         1.4.1\n",
      "urllib3                           1.25.10\n",
      "vapeplot                          0.0.8\n",
      "virtualenv                        20.0.33\n",
      "wcwidth                           0.2.5\n",
      "webencodings                      0.5.1\n",
      "websocket-client                  0.57.0\n",
      "widgetsnbextension                3.5.1\n",
      "wrapt                             1.12.1\n",
      "xlrd                              1.2.0\n",
      "zipp                              3.1.0\n"
     ]
    }
   ],
   "source": [
    "pip list"
   ]
  },
  {
   "cell_type": "code",
   "execution_count": 1,
   "metadata": {},
   "outputs": [
    {
     "ename": "ModuleNotFoundError",
     "evalue": "No module named 'dataclasses_json'",
     "output_type": "error",
     "traceback": [
      "\u001b[1;31m---------------------------------------------------------------------------\u001b[0m",
      "\u001b[1;31mModuleNotFoundError\u001b[0m                       Traceback (most recent call last)",
      "\u001b[1;32m<ipython-input-1-30b6b9125ba2>\u001b[0m in \u001b[0;36m<module>\u001b[1;34m\u001b[0m\n\u001b[1;32m----> 1\u001b[1;33m \u001b[1;32mimport\u001b[0m \u001b[0mlastfm_users\u001b[0m\u001b[1;33m\u001b[0m\u001b[1;33m\u001b[0m\u001b[0m\n\u001b[0m",
      "\u001b[1;32m~\\Documents\\GitHub\\music-review-pipeline\\src\\data\\lastfm\\lastfm_users.py\u001b[0m in \u001b[0;36m<module>\u001b[1;34m\u001b[0m\n\u001b[0;32m      3\u001b[0m \u001b[1;32mimport\u001b[0m \u001b[0mjson\u001b[0m\u001b[1;33m\u001b[0m\u001b[1;33m\u001b[0m\u001b[0m\n\u001b[0;32m      4\u001b[0m \u001b[1;32mfrom\u001b[0m \u001b[0mdataclasses\u001b[0m \u001b[1;32mimport\u001b[0m \u001b[0mdataclass\u001b[0m\u001b[1;33m\u001b[0m\u001b[1;33m\u001b[0m\u001b[0m\n\u001b[1;32m----> 5\u001b[1;33m \u001b[1;32mfrom\u001b[0m \u001b[0mdataclasses_json\u001b[0m \u001b[1;32mimport\u001b[0m \u001b[0mdataclass_json\u001b[0m\u001b[1;33m\u001b[0m\u001b[1;33m\u001b[0m\u001b[0m\n\u001b[0m\u001b[0;32m      6\u001b[0m \u001b[1;32mfrom\u001b[0m \u001b[0mcollections\u001b[0m \u001b[1;32mimport\u001b[0m \u001b[0mdeque\u001b[0m\u001b[1;33m\u001b[0m\u001b[1;33m\u001b[0m\u001b[0m\n\u001b[0;32m      7\u001b[0m \u001b[1;32mfrom\u001b[0m \u001b[0mtime\u001b[0m \u001b[1;32mimport\u001b[0m \u001b[0msleep\u001b[0m\u001b[1;33m\u001b[0m\u001b[1;33m\u001b[0m\u001b[0m\n",
      "\u001b[1;31mModuleNotFoundError\u001b[0m: No module named 'dataclasses_json'"
     ]
    }
   ],
   "source": [
    "import lastfm_users"
   ]
  },
  {
   "cell_type": "code",
   "execution_count": 33,
   "metadata": {},
   "outputs": [
    {
     "ename": "NameError",
     "evalue": "name 'lastfm_users' is not defined",
     "output_type": "error",
     "traceback": [
      "\u001b[1;31m---------------------------------------------------------------------------\u001b[0m",
      "\u001b[1;31mNameError\u001b[0m                                 Traceback (most recent call last)",
      "\u001b[1;32m<ipython-input-33-c51ab17895bc>\u001b[0m in \u001b[0;36m<module>\u001b[1;34m\u001b[0m\n\u001b[1;32m----> 1\u001b[1;33m \u001b[0musers\u001b[0m \u001b[1;33m=\u001b[0m \u001b[0mlastfm_users\u001b[0m\u001b[1;33m.\u001b[0m\u001b[0mLfmUsers\u001b[0m\u001b[1;33m(\u001b[0m\u001b[1;33m)\u001b[0m\u001b[1;33m\u001b[0m\u001b[1;33m\u001b[0m\u001b[0m\n\u001b[0m\u001b[0;32m      2\u001b[0m \u001b[0musers\u001b[0m\u001b[1;33m.\u001b[0m\u001b[0mget_user_friends\u001b[0m\u001b[1;33m(\u001b[0m\u001b[0muser\u001b[0m \u001b[1;33m=\u001b[0m \u001b[1;34m'oyo'\u001b[0m\u001b[1;33m,\u001b[0m \u001b[0mfriend_limit\u001b[0m\u001b[1;33m=\u001b[0m\u001b[1;36m2\u001b[0m\u001b[1;33m)\u001b[0m\u001b[1;33m\u001b[0m\u001b[1;33m\u001b[0m\u001b[0m\n",
      "\u001b[1;31mNameError\u001b[0m: name 'lastfm_users' is not defined"
     ]
    }
   ],
   "source": [
    "users = lastfm_users.LfmUsers()\n",
    "users.get_user_friends(user = 'oyo', friend_limit=2)"
   ]
  },
  {
   "cell_type": "code",
   "execution_count": 9,
   "metadata": {},
   "outputs": [
    {
     "data": {
      "text/plain": [
       "['__class__',\n",
       " '__delattr__',\n",
       " '__dict__',\n",
       " '__dir__',\n",
       " '__doc__',\n",
       " '__eq__',\n",
       " '__format__',\n",
       " '__ge__',\n",
       " '__getattribute__',\n",
       " '__gt__',\n",
       " '__hash__',\n",
       " '__init__',\n",
       " '__init_subclass__',\n",
       " '__le__',\n",
       " '__lt__',\n",
       " '__module__',\n",
       " '__ne__',\n",
       " '__new__',\n",
       " '__reduce__',\n",
       " '__reduce_ex__',\n",
       " '__repr__',\n",
       " '__setattr__',\n",
       " '__sizeof__',\n",
       " '__str__',\n",
       " '__subclasshook__',\n",
       " '__weakref__',\n",
       " 'api_key',\n",
       " 'get_user_friends',\n",
       " 'get_users',\n",
       " 'url',\n",
       " 'userqueue',\n",
       " 'users']"
      ]
     },
     "execution_count": 9,
     "metadata": {},
     "output_type": "execute_result"
    }
   ],
   "source": [
    "dir(users)"
   ]
  },
  {
   "cell_type": "code",
   "execution_count": 2,
   "metadata": {},
   "outputs": [
    {
     "data": {
      "text/plain": [
       "{'test2': {'test3': 5}}"
      ]
     },
     "execution_count": 2,
     "metadata": {},
     "output_type": "execute_result"
    }
   ],
   "source": [
    "test = {'test2': {}}\n",
    "test['test2']['test3'] = 5\n",
    "test"
   ]
  },
  {
   "cell_type": "code",
   "execution_count": 30,
   "metadata": {},
   "outputs": [
    {
     "name": "stdin",
     "output_type": "stream",
     "text": [
      "Last.fm Dev API Key 1e5219c4a46a465894438fb9fac53edc\n"
     ]
    }
   ],
   "source": [
    "import requests\n",
    "import json\n",
    "from dataclasses import dataclass\n",
    "from collections import deque\n",
    "from time import sleep\n",
    "\n",
    "\n",
    "@dataclass\n",
    "class LfmUserData():\n",
    "    \"\"\"dataclass to store retrieved data\"\"\"\n",
    "    user: str = None\n",
    "    friends: list = None\n",
    "\n",
    "class LfmUsers(object):\n",
    "    \"\"\"Gets a large number of last fm user names\"\"\"\n",
    "    def __init__(self, starting_user: str=None):\n",
    "        self.api_key = input(\"Last.fm Dev API Key\")\n",
    "        self.url = {'payload': {}, 'headers': {}}\n",
    "        self.url['root'] = r'http://ws.audioscrobbler.com/2.0/'\n",
    "        self.url['payload']['method'] = 'user.getfriends'\n",
    "        self.url['payload']['api_key'] = f'{self.api_key}'\n",
    "        self.url['payload']['format'] = 'json'\n",
    "        self.url['payload']['recenttracks'] = 'False'\n",
    "        self.url['headers']['user-agent'] = 'chrisoyer_my-app.0.0.1alpha'\n",
    "        self.crawled = []\n",
    "        self.userqueue = deque([starting_user])\n",
    "        self.users = [starting_user]\n",
    "\n",
    "    def get_user_friends(self, user, friend_limit: int=50):\n",
    "        \"\"\"requests data for one user and parses response\"\"\"\n",
    "        payload = {**self.url['payload'], **{'user': user}}\n",
    "        resp = requests.get(self.url['root'], params=payload, \n",
    "                            headers=self.url['headers']).json()\n",
    "        return [friend['name'] for friend in resp['friends']['user']]\n",
    "        \n",
    "    def _process_userqueue(self):\n",
    "        \"\"\"runs through the queue\"\"\"\n",
    "        users, self.userqueue = self.userqueue, []\n",
    "        for user in users:\n",
    "            friends = self.get_user_friends(user=user)\n",
    "            user_and_friends = LfmUserData(user=user, friends=friends)\n",
    "            self.users.append(user_and_friends)\n",
    "            self.crawled.append(user)\n",
    "            uncrawled_friends = [friend for friend in friends \n",
    "                                 if friend not in self.crawled]\n",
    "            self.userqueue.extend(uncrawled_friends)\n",
    "            sleep(5)\n",
    "\n",
    "    def crawl(self, user: str='oyo', depth: int=1):\n",
    "        \"\"\"drive method. gets a large number of users\n",
    "        parameters:    user:  user to start at\n",
    "                       depth: \n",
    "        returns: None (adds to users attr and modifies userqueue attr)\"\"\"\n",
    "\n",
    "        for layer in range(depth):\n",
    "            self._process_userqueue()\n",
    "\n",
    "        \n",
    "instance = LfmUsers(starting_user='oyo')"
   ]
  },
  {
   "cell_type": "code",
   "execution_count": 31,
   "metadata": {},
   "outputs": [],
   "source": [
    "instance.crawl('oyo', depth=2)"
   ]
  },
  {
   "cell_type": "code",
   "execution_count": 25,
   "metadata": {},
   "outputs": [
    {
     "data": {
      "text/plain": [
       "[['c0rts',\n",
       "  'JovialVole',\n",
       "  'raftsman',\n",
       "  'IanCurran',\n",
       "  'sanyoarg',\n",
       "  'RedjMusic',\n",
       "  'darkrider1',\n",
       "  'citiesofkamala',\n",
       "  'RudiganRex',\n",
       "  'thatgirlkim',\n",
       "  'CBryant',\n",
       "  'cssblahblah',\n",
       "  'mtax',\n",
       "  'pantsoclock',\n",
       "  'aberdisko',\n",
       "  'lugoalx',\n",
       "  'ElviciousSpike',\n",
       "  'nik-green',\n",
       "  'whynotdex',\n",
       "  'BabuJones',\n",
       "  'Twentyonejeepee',\n",
       "  'windpucker',\n",
       "  'aphidsamongus',\n",
       "  'jaydejean',\n",
       "  'CogitoErgoSum',\n",
       "  'Cryabetes',\n",
       "  'Vibbly',\n",
       "  'sniffer2',\n",
       "  'comeonpilgrim',\n",
       "  'Zachary_Boyd',\n",
       "  'rosenband84',\n",
       "  'birdofplay',\n",
       "  'clockout',\n",
       "  'mcwop23',\n",
       "  'buggosmash',\n",
       "  'BurgerTrench',\n",
       "  'el toro fuerte',\n",
       "  'geolaw',\n",
       "  'akloosterhof',\n",
       "  'xdtotheustinx',\n",
       "  'mellowdoubt',\n",
       "  'slimduncan',\n",
       "  'magiC_LeonRd',\n",
       "  'themoralbank',\n",
       "  'EBergen',\n",
       "  'OkRadiator',\n",
       "  'waldojeffers1',\n",
       "  'purpinkary',\n",
       "  'rentbwoy',\n",
       "  'inbristol']]"
      ]
     },
     "execution_count": 25,
     "metadata": {},
     "output_type": "execute_result"
    }
   ],
   "source": [
    "instance.userqueue"
   ]
  },
  {
   "cell_type": "code",
   "execution_count": 32,
   "metadata": {},
   "outputs": [
    {
     "data": {
      "text/plain": [
       "['oyo',\n",
       " LfmUserData(user='oyo', friends=['DeadWolfBones', 'AdamThomas1', 'Murgatroid', 'Hypertime', 'rachelnauss', 'rentbwoy', 'mites', 'jbiz', 'andreisama', 'agentaudrey']),\n",
       " LfmUserData(user='DeadWolfBones', friends=['andrewjh22', 'Samuel-henry', 'lugoalx', 'GoombarianKoopa', 'razelboy', 'decoupled', 'hiddenicon1', 'heysatan', 'tom_81', 'ohrohin', 'Pliant', 'Niymeh', 'ixisid', 'mr_allcaps', 'azfactor', 'vampire_beats', 'comohodgie', 'go_carter', 'fameless', 'etre', 'teuthoidea1066', 'piotro21', 'DUMIDOT', 'velcrotrainer', 'clockout', 'oyo', 'minnimyy', 'a_la_playa', 'armin_tamzarian', 'Gil_The_Lynx', 'Kauv', 'Botts', 'atomicbombshell', 'wolfpolice', 'Hypertime', 'Banshee56', 'SYMantiks', 'numba9', 'volcanoworship', 'ohitsmax', 'Murgatroid', 'slimchill', 'kinokato', 'mattstan', 'moireach', 'YellowCardigan', 'goateebird', 'dialacliche', 'TotalDrop', 'jukeboxzero']),\n",
       " LfmUserData(user='AdamThomas1', friends=['andreisama', 'vampire_beats', 'tonybricker', 'Beckczar', 'tintedcheeks', 'fameless', 'Smaysles', 'smallpoppy', 'Danzie', 'kinokato', 'volcanoworship', 'crazylikegideon', 'atomicbombshell', '1000wattdream', 'Carsta', 'athensasylum', 'comeonpilgrim', 'Trebek', 'claphands', 'mites', 'JohnDC', 'hotdoorknobs', 'jonitha', 'gibson781', 'YoshimitsuRox', 'coolymccoolvin', 'geologist', 'rentbwoy', 'oyo', 'NightMirage', 'newartillery']),\n",
       " LfmUserData(user='Murgatroid', friends=['vampire_beats', 'j-ol', 'CaptainPsyko', 'signalresponse', 'djcrabhat', 'Quartermass', 'rentbwoy', 'oyo', 'TrevorErik', 'sosimplerecords', 'kp77', 'Hypertime', 'numba9', 'Banjo2', 'Yaldabaoth', 'rojodiablo77', 'brianmilne', 'fagpatrol', 'myownbiggestfan', 'newartillery', 'ohitsmax', 'andreisama', 'DeadWolfBones', 'fuckmountain']),\n",
       " LfmUserData(user='Hypertime', friends=['newmusictalk', 'Polarbyrd', 'clockout', 'oyo', 'goanalog', 'geologist', 'peterbuldge', 'slowen-hpn', 'atomicbombshell', 'Murgatroid', 'yupislyr', 'ohitsmax', 'bee.chan', 'umop-apisdn', 'Oedipax', 'kinokato', 'rentbwoy', 'menocu', 'sumirp', 'tonybricker', 'andreisama', 'Trebek', 'jbiz', 'erroranalysis', 'grapeshine', 'DeadWolfBones', 'newartillery']),\n",
       " LfmUserData(user='rachelnauss', friends=['andrewjh22', 'heysatan', 'vampire_beats', 'menocu', 'geneparmesan', 'sumirp', 'uedrick', 'kinokato', 'lokidelta', 'oyo', 'impalpable', 'Botts', 'armin_tamzarian', 'bowerbuild', 'Folkface', 'waker', 'smilingoff', 'dudebrodawg', 'detenterin', 'thieflikeme', 'ivorysj', 'margaretF']),\n",
       " LfmUserData(user='rentbwoy', friends=['tweeglitch', 'WatSuxIsLife', 'stevestate', 'claphands', 'youeatpoop', 'elementos', 'kayul', 'PagodaStabsMe', 'plothole', 'andrewjh22', 'trlev', 'decoupled', 'pantsoclock', 'wjdavies', 'nohaybanda', '1000wattdream', 'zeebah', 'cescorosa', 'Diadith', 'Zeritas', 'size32', 'clockout', 'agentaudrey', 'kinokato', 'chemicaldavid', 'Murgatroid', 'oyo', 'tigrushka', 'djmachx', 'volcanoworship', 'CarlHunguS', 'grapeshine']),\n",
       " LfmUserData(user='mites', friends=['evridica92', 'AdamThomas1', 'thelionman', 'BigBlock454', 'manindecline', 'tonyloeb', 'mauricioherrero', 'manny34', 'oyo', 'DroneFool23', 'hickorywind', 'numba9', 'Ex-Smith', 'ThadEnouf', 'agentaudrey', 'israfel66', 'athensasylum', 'hot4leerenaldo', 'caiosky']),\n",
       " LfmUserData(user='jbiz', friends=['ROBBBIGG', 'mcwop23', 'oyo', 'Hypertime', 'jukeboxzero', 'cadencew']),\n",
       " LfmUserData(user='andreisama', friends=['azfactor', 'mcwop23', 'Acatescaped', 'AdamThomas1', 'sakobe', 'theyreshining', 'AtMorphine', 'oyo', 'Hypertime', 'SYMantiks', 'tonybricker', 'volcanoworship', 'namini', 'clockout', 'jukeboxzero', 'ohitsmax', 'Murgatroid']),\n",
       " LfmUserData(user='agentaudrey', friends=['c0rts', 'JovialVole', 'raftsman', 'IanCurran', 'sanyoarg', 'RedjMusic', 'darkrider1', 'citiesofkamala', 'RudiganRex', 'thatgirlkim', 'CBryant', 'cssblahblah', 'mtax', 'pantsoclock', 'aberdisko', 'lugoalx', 'ElviciousSpike', 'nik-green', 'whynotdex', 'BabuJones', 'Twentyonejeepee', 'windpucker', 'aphidsamongus', 'jaydejean', 'CogitoErgoSum', 'Cryabetes', 'Vibbly', 'sniffer2', 'comeonpilgrim', 'Zachary_Boyd', 'rosenband84', 'birdofplay', 'clockout', 'mcwop23', 'buggosmash', 'BurgerTrench', 'el toro fuerte', 'geolaw', 'akloosterhof', 'xdtotheustinx', 'mellowdoubt', 'slimduncan', 'magiC_LeonRd', 'themoralbank', 'EBergen', 'OkRadiator', 'waldojeffers1', 'purpinkary', 'rentbwoy', 'inbristol'])]"
      ]
     },
     "execution_count": 32,
     "metadata": {},
     "output_type": "execute_result"
    }
   ],
   "source": [
    "instance.users"
   ]
  },
  {
   "cell_type": "code",
   "execution_count": null,
   "metadata": {},
   "outputs": [],
   "source": []
  }
 ],
 "metadata": {
  "kernelspec": {
   "display_name": "Python 3",
   "language": "python",
   "name": "python3"
  },
  "language_info": {
   "codemirror_mode": {
    "name": "ipython",
    "version": 3
   },
   "file_extension": ".py",
   "mimetype": "text/x-python",
   "name": "python",
   "nbconvert_exporter": "python",
   "pygments_lexer": "ipython3",
   "version": "3.7.4"
  }
 },
 "nbformat": 4,
 "nbformat_minor": 4
}
